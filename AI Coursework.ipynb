{
 "cells": [
  {
   "cell_type": "markdown",
   "id": "8d2de718",
   "metadata": {},
   "source": [
    "# ECM2423 - Coursework Exercise\n",
    "### Deadline: 17th March 2022 12:00\n",
    "### Lecturer: Dr. Ayah Helal (a.helal@exeter.ac.uk)"
   ]
  },
  {
   "cell_type": "markdown",
   "id": "c7db8e3c",
   "metadata": {},
   "source": [
    "## Question 1: Implement a heuristic search algorithm: A*\n",
    "#### Question 1.1: Describe how you would frame the 8-puzzle problem as a search problem\n",
	"\n",
    "The 8-puzzle problem can be looked at as a search problem, as each possible state of the puzzle can be represented as nodes in a graph, with the arcs representing legal moves between states. The start state is a randomly picked arrangement of tiles. The goal state is the desired final order of tiles. The cost of transition from one state to another is 1. Valid operations are moves where a number adjacent to the blank space moves into the blank space (blank space is swapped with an adjacent tile).\n",
    "\n",
    "Framing the problem as a search, we are trying to find the path from the start state to the goal state with the lowest cost possible. In game terms, we must order the tiles as instructed with the least number of moves possible.\n",
    "\n",
    "\n",
	"#### Question 1.2: Solve the 8-puzzle problem using A*\n",
    "\n",
    "1. In this question you should first briefly outline the A* algorithm\n"
	]
	}]
	}
	